{
 "cells": [
  {
   "cell_type": "code",
   "execution_count": 1,
   "metadata": {},
   "outputs": [
    {
     "name": "stdout",
     "output_type": "stream",
     "text": [
      "Hello World\n"
     ]
    }
   ],
   "source": [
    "print(\"Hello World\")"
   ]
  },
  {
   "cell_type": "code",
   "execution_count": 2,
   "metadata": {},
   "outputs": [
    {
     "name": "stdout",
     "output_type": "stream",
     "text": [
      "Index(['STATEFP', 'UNSDLEA', 'GEOID20', 'NAME', 'LSAD', 'LOGRADE', 'HIGRADE',\n",
      "       'MTFCC', 'FUNCSTAT', 'ESD', 'CCDDD', 'ALAND', 'AWATER', 'ALANDMI',\n",
      "       'AWATERMI', 'INTPTLAT', 'INTPTLON', 'XCOORD', 'YCOORD', 'geometry'],\n",
      "      dtype='object')\n"
     ]
    }
   ],
   "source": [
    "import geopandas as gpd\n",
    "\n",
    "# Path to folder containing your shapefiles\n",
    "gdf = gpd.read_file(\"unsd20/unsd20.shp\")\n",
    "gdf\n",
    "\n",
    "# Optional: inspect column names\n",
    "print(gdf.columns)\n",
    "\n",
    "# Export to GeoJSON\n",
    "gdf.to_file(\"wa_school_districts.geojson\", driver=\"GeoJSON\")"
   ]
  },
  {
   "cell_type": "code",
   "execution_count": 4,
   "metadata": {},
   "outputs": [
    {
     "name": "stdout",
     "output_type": "stream",
     "text": [
      "Loading school district shapefile...\n",
      "Current CRS: PROJCS[\"NAD83(HARN) / Washington South (ftUS)\",GEOGCS[\"NAD83(HARN)\",DATUM[\"NAD83_High_Accuracy_Reference_Network\",SPHEROID[\"GRS 1980\",6378137,298.257222101,AUTHORITY[\"EPSG\",\"7019\"]],AUTHORITY[\"EPSG\",\"6152\"]],PRIMEM[\"Greenwich\",0],UNIT[\"Degree\",0.0174532925199433]],PROJECTION[\"Lambert_Conformal_Conic_2SP\"],PARAMETER[\"latitude_of_origin\",45.3333333333333],PARAMETER[\"central_meridian\",-120.5],PARAMETER[\"standard_parallel_1\",45.8333333333333],PARAMETER[\"standard_parallel_2\",47.3333333333333],PARAMETER[\"false_easting\",1640416.66666667],PARAMETER[\"false_northing\",0],UNIT[\"US survey foot\",0.304800609601219,AUTHORITY[\"EPSG\",\"9003\"]],AXIS[\"Easting\",EAST],AXIS[\"Northing\",NORTH]]\n",
      "Reprojecting to WGS84...\n",
      "New CRS: EPSG:4326\n",
      "Fixed GeoJSON file created: wa_school_districts_fixed.geojson\n",
      "This file should now work with your web map!\n",
      "\n",
      "Sample coordinates (longitude, latitude):\n",
      "  Point 1: -123.892781, 46.894702\n",
      "  Point 2: -123.892808, 46.896088\n",
      "  Point 3: -123.892804, 46.896884\n"
     ]
    }
   ],
   "source": [
    "\n",
    "\"\"\"Reproject school district data to WGS84 and save as new GeoJSON file.\"\"\"\n",
    "\n",
    "print(\"Loading school district shapefile...\")\n",
    "# Load the original shapefile\n",
    "gdf = gpd.read_file(\"unsd20/unsd20.shp\")\n",
    "\n",
    "# Check current coordinate system\n",
    "print(f\"Current CRS: {gdf.crs}\")\n",
    "\n",
    "# Reproject to WGS84 (EPSG:4326)\n",
    "print(\"Reprojecting to WGS84...\")\n",
    "gdf_wgs84 = gdf.to_crs(epsg=4326)\n",
    "\n",
    "# Check the new coordinate system\n",
    "print(f\"New CRS: {gdf_wgs84.crs}\")\n",
    "\n",
    "# Export to GeoJSON with proper coordinates\n",
    "output_file = \"wa_school_districts_fixed.geojson\"\n",
    "gdf_wgs84.to_file(output_file, driver=\"GeoJSON\")\n",
    "\n",
    "print(f\"Fixed GeoJSON file created: {output_file}\")\n",
    "print(\"This file should now work with your web map!\")\n",
    "\n",
    "# Show a sample of the new coordinates\n",
    "sample_feature = gdf_wgs84.iloc[0]\n",
    "sample_coords = sample_feature.geometry.exterior.coords[:3]\n",
    "print(f\"\\nSample coordinates (longitude, latitude):\")\n",
    "for i, coord in enumerate(sample_coords):\n",
    "    print(f\"  Point {i+1}: {coord[0]:.6f}, {coord[1]:.6f}\")\n"
   ]
  }
 ],
 "metadata": {
  "kernelspec": {
   "display_name": ".venv",
   "language": "python",
   "name": "python3"
  },
  "language_info": {
   "codemirror_mode": {
    "name": "ipython",
    "version": 3
   },
   "file_extension": ".py",
   "mimetype": "text/x-python",
   "name": "python",
   "nbconvert_exporter": "python",
   "pygments_lexer": "ipython3",
   "version": "3.13.5"
  }
 },
 "nbformat": 4,
 "nbformat_minor": 2
}
